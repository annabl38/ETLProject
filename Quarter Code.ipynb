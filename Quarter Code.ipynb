{
 "cells": [
  {
   "cell_type": "code",
   "execution_count": 1,
   "metadata": {},
   "outputs": [],
   "source": [
    "import pandas as pd"
   ]
  },
  {
   "cell_type": "code",
   "execution_count": null,
   "metadata": {},
   "outputs": [],
   "source": [
    "csv_file = \"./ETLProject/btc-API.csv\"\n",
    "csv_df = pd.read_csv(csv_file)\n",
    "csv_df.head()"
   ]
  },
  {
   "cell_type": "code",
   "execution_count": null,
   "metadata": {},
   "outputs": [],
   "source": [
    "csv_df[\"CLEAN_TIME\"] = csv_df[\"time_period_end\"].map(lambda x: str(x)[:-21])\n",
    "csv_df.head()"
   ]
  },
  {
   "cell_type": "code",
   "execution_count": null,
   "metadata": {},
   "outputs": [],
   "source": [
    "csv_df[\"CLEAN_TIME\"] = csv_df[\"CLEAN_TIME\"].str.replace('-04',\"Q1'\")\n",
    "csv_df[\"CLEAN_TIME\"] = csv_df[\"CLEAN_TIME\"].str.replace('-07',\"Q2'\")\n",
    "csv_df[\"CLEAN_TIME\"] = csv_df[\"CLEAN_TIME\"].str.replace('-10',\"Q3'\")\n",
    "csv_df[\"CLEAN_TIME\"] = csv_df[\"CLEAN_TIME\"].str.replace('-01',\"Q4'\")\n",
    "csv_df.head()"
   ]
  },
  {
   "cell_type": "code",
   "execution_count": null,
   "metadata": {},
   "outputs": [],
   "source": [
    "csv_df[\"CLEAN_TIME\"] = csv_df[\"CLEAN_TIME\"].map(lambda x: str(x)[2:])\n"
   ]
  },
  {
   "cell_type": "code",
   "execution_count": null,
   "metadata": {},
   "outputs": [],
   "source": [
    "csv_df.head()"
   ]
  },
  {
   "cell_type": "code",
   "execution_count": null,
   "metadata": {},
   "outputs": [],
   "source": [
    "csv_df[\"year\"]=csv_df[\"CLEAN_TIME\"]\n",
    "csv_df[\"year\"]=csv_df[\"year\"].map(lambda x: str(x)[:-3])\n",
    "csv_df.head()"
   ]
  },
  {
   "cell_type": "code",
   "execution_count": null,
   "metadata": {},
   "outputs": [],
   "source": [
    "csv_df[\"Quarter\"]=csv_df[\"CLEAN_TIME\"].map(lambda x: str(x)[2:])\n",
    "csv_df.head()"
   ]
  },
  {
   "cell_type": "code",
   "execution_count": null,
   "metadata": {},
   "outputs": [],
   "source": [
    "csv_df[\"By_Quarer\"]=csv_df[\"Quarter\"]+csv_df[\"year\"]\n",
    "csv_df.head()"
   ]
  },
  {
   "cell_type": "markdown",
   "metadata": {},
   "source": [
    "USE CODE BELOW"
   ]
  },
  {
   "cell_type": "code",
   "execution_count": 2,
   "metadata": {},
   "outputs": [
    {
     "data": {
      "text/html": [
       "<div>\n",
       "<style scoped>\n",
       "    .dataframe tbody tr th:only-of-type {\n",
       "        vertical-align: middle;\n",
       "    }\n",
       "\n",
       "    .dataframe tbody tr th {\n",
       "        vertical-align: top;\n",
       "    }\n",
       "\n",
       "    .dataframe thead th {\n",
       "        text-align: right;\n",
       "    }\n",
       "</style>\n",
       "<table border=\"1\" class=\"dataframe\">\n",
       "  <thead>\n",
       "    <tr style=\"text-align: right;\">\n",
       "      <th></th>\n",
       "      <th>Unnamed: 0</th>\n",
       "      <th>price_close</th>\n",
       "      <th>price_high</th>\n",
       "      <th>price_low</th>\n",
       "      <th>price_open</th>\n",
       "      <th>time_close</th>\n",
       "      <th>time_open</th>\n",
       "      <th>time_period_end</th>\n",
       "      <th>time_period_start</th>\n",
       "      <th>trades_count</th>\n",
       "      <th>volume_traded</th>\n",
       "      <th>CLEAN_TIME</th>\n",
       "      <th>year</th>\n",
       "      <th>Quarter</th>\n",
       "      <th>By_Quarer</th>\n",
       "    </tr>\n",
       "  </thead>\n",
       "  <tbody>\n",
       "    <tr>\n",
       "      <th>0</th>\n",
       "      <td>0</td>\n",
       "      <td>0.06190</td>\n",
       "      <td>0.1750</td>\n",
       "      <td>0.03211</td>\n",
       "      <td>0.04951</td>\n",
       "      <td>2010-09-30T22:49:52.0000000Z</td>\n",
       "      <td>2010-07-17T23:09:17.0000000Z</td>\n",
       "      <td>2010-10-01T00:00:00.0000000Z</td>\n",
       "      <td>2010-07-01T00:00:00.0000000Z</td>\n",
       "      <td>2665</td>\n",
       "      <td>4.704097e+05</td>\n",
       "      <td>10Q3'</td>\n",
       "      <td>10</td>\n",
       "      <td>Q3'</td>\n",
       "      <td>Q3'10</td>\n",
       "    </tr>\n",
       "    <tr>\n",
       "      <th>1</th>\n",
       "      <td>1</td>\n",
       "      <td>0.30000</td>\n",
       "      <td>0.5000</td>\n",
       "      <td>0.01000</td>\n",
       "      <td>0.06189</td>\n",
       "      <td>2010-12-31T21:36:52.0000000Z</td>\n",
       "      <td>2010-10-01T02:56:13.0000000Z</td>\n",
       "      <td>2011-01-01T00:00:00.0000000Z</td>\n",
       "      <td>2010-10-01T00:00:00.0000000Z</td>\n",
       "      <td>6092</td>\n",
       "      <td>2.195828e+06</td>\n",
       "      <td>11Q4'</td>\n",
       "      <td>11</td>\n",
       "      <td>Q4'</td>\n",
       "      <td>Q4'11</td>\n",
       "    </tr>\n",
       "    <tr>\n",
       "      <th>2</th>\n",
       "      <td>2</td>\n",
       "      <td>0.78461</td>\n",
       "      <td>1.1000</td>\n",
       "      <td>0.28900</td>\n",
       "      <td>0.29200</td>\n",
       "      <td>2011-03-31T23:44:15.0000000Z</td>\n",
       "      <td>2011-01-01T01:16:13.0000000Z</td>\n",
       "      <td>2011-04-01T00:00:00.0000000Z</td>\n",
       "      <td>2011-01-01T00:00:00.0000000Z</td>\n",
       "      <td>8406</td>\n",
       "      <td>9.883464e+05</td>\n",
       "      <td>11Q1'</td>\n",
       "      <td>11</td>\n",
       "      <td>Q1'</td>\n",
       "      <td>Q1'11</td>\n",
       "    </tr>\n",
       "    <tr>\n",
       "      <th>3</th>\n",
       "      <td>3</td>\n",
       "      <td>16.10096</td>\n",
       "      <td>31.9099</td>\n",
       "      <td>0.56190</td>\n",
       "      <td>0.77800</td>\n",
       "      <td>2011-06-30T23:59:41.0000000Z</td>\n",
       "      <td>2011-04-01T00:28:54.0000000Z</td>\n",
       "      <td>2011-07-01T00:00:00.0000000Z</td>\n",
       "      <td>2011-04-01T00:00:00.0000000Z</td>\n",
       "      <td>205917</td>\n",
       "      <td>3.173722e+06</td>\n",
       "      <td>11Q2'</td>\n",
       "      <td>11</td>\n",
       "      <td>Q2'</td>\n",
       "      <td>Q2'11</td>\n",
       "    </tr>\n",
       "    <tr>\n",
       "      <th>4</th>\n",
       "      <td>4</td>\n",
       "      <td>5.14009</td>\n",
       "      <td>16.7400</td>\n",
       "      <td>4.18000</td>\n",
       "      <td>16.10098</td>\n",
       "      <td>2011-09-30T23:59:04.0000000Z</td>\n",
       "      <td>2011-07-01T00:00:59.0000000Z</td>\n",
       "      <td>2011-10-01T00:00:00.0000000Z</td>\n",
       "      <td>2011-07-01T00:00:00.0000000Z</td>\n",
       "      <td>536900</td>\n",
       "      <td>3.814916e+06</td>\n",
       "      <td>11Q3'</td>\n",
       "      <td>11</td>\n",
       "      <td>Q3'</td>\n",
       "      <td>Q3'11</td>\n",
       "    </tr>\n",
       "  </tbody>\n",
       "</table>\n",
       "</div>"
      ],
      "text/plain": [
       "   Unnamed: 0  price_close  price_high  price_low  price_open  \\\n",
       "0           0      0.06190      0.1750    0.03211     0.04951   \n",
       "1           1      0.30000      0.5000    0.01000     0.06189   \n",
       "2           2      0.78461      1.1000    0.28900     0.29200   \n",
       "3           3     16.10096     31.9099    0.56190     0.77800   \n",
       "4           4      5.14009     16.7400    4.18000    16.10098   \n",
       "\n",
       "                     time_close                     time_open  \\\n",
       "0  2010-09-30T22:49:52.0000000Z  2010-07-17T23:09:17.0000000Z   \n",
       "1  2010-12-31T21:36:52.0000000Z  2010-10-01T02:56:13.0000000Z   \n",
       "2  2011-03-31T23:44:15.0000000Z  2011-01-01T01:16:13.0000000Z   \n",
       "3  2011-06-30T23:59:41.0000000Z  2011-04-01T00:28:54.0000000Z   \n",
       "4  2011-09-30T23:59:04.0000000Z  2011-07-01T00:00:59.0000000Z   \n",
       "\n",
       "                time_period_end             time_period_start  trades_count  \\\n",
       "0  2010-10-01T00:00:00.0000000Z  2010-07-01T00:00:00.0000000Z          2665   \n",
       "1  2011-01-01T00:00:00.0000000Z  2010-10-01T00:00:00.0000000Z          6092   \n",
       "2  2011-04-01T00:00:00.0000000Z  2011-01-01T00:00:00.0000000Z          8406   \n",
       "3  2011-07-01T00:00:00.0000000Z  2011-04-01T00:00:00.0000000Z        205917   \n",
       "4  2011-10-01T00:00:00.0000000Z  2011-07-01T00:00:00.0000000Z        536900   \n",
       "\n",
       "   volume_traded CLEAN_TIME year Quarter By_Quarer  \n",
       "0   4.704097e+05      10Q3'   10     Q3'     Q3'10  \n",
       "1   2.195828e+06      11Q4'   11     Q4'     Q4'11  \n",
       "2   9.883464e+05      11Q1'   11     Q1'     Q1'11  \n",
       "3   3.173722e+06      11Q2'   11     Q2'     Q2'11  \n",
       "4   3.814916e+06      11Q3'   11     Q3'     Q3'11  "
      ]
     },
     "execution_count": 2,
     "metadata": {},
     "output_type": "execute_result"
    }
   ],
   "source": [
    "# condensed code======================================\n",
    "csv_file = \"./ETLProject/btc-API.csv\"\n",
    "csv_df = pd.read_csv(csv_file)\n",
    "\n",
    "csv_df[\"CLEAN_TIME\"] = csv_df[\"time_period_end\"].map(lambda x: str(x)[:-21])\n",
    "\n",
    "csv_df[\"CLEAN_TIME\"] = csv_df[\"CLEAN_TIME\"].str.replace('-04',\"Q1'\")\n",
    "csv_df[\"CLEAN_TIME\"] = csv_df[\"CLEAN_TIME\"].str.replace('-07',\"Q2'\")\n",
    "csv_df[\"CLEAN_TIME\"] = csv_df[\"CLEAN_TIME\"].str.replace('-10',\"Q3'\")\n",
    "csv_df[\"CLEAN_TIME\"] = csv_df[\"CLEAN_TIME\"].str.replace('-01',\"Q4'\")\n",
    "\n",
    "csv_df[\"CLEAN_TIME\"] = csv_df[\"CLEAN_TIME\"].map(lambda x: str(x)[2:])\n",
    "\n",
    "csv_df[\"year\"]=csv_df[\"CLEAN_TIME\"]\n",
    "csv_df[\"year\"]=csv_df[\"year\"].map(lambda x: str(x)[:-3])\n",
    "\n",
    "csv_df[\"Quarter\"]=csv_df[\"CLEAN_TIME\"].map(lambda x: str(x)[2:])\n",
    "\n",
    "csv_df[\"By_Quarer\"]=csv_df[\"Quarter\"]+csv_df[\"year\"]\n",
    "csv_df.head()"
   ]
  },
  {
   "cell_type": "code",
   "execution_count": null,
   "metadata": {},
   "outputs": [],
   "source": []
  }
 ],
 "metadata": {
  "kernelspec": {
   "display_name": "Python 3",
   "language": "python",
   "name": "python3"
  },
  "language_info": {
   "codemirror_mode": {
    "name": "ipython",
    "version": 3
   },
   "file_extension": ".py",
   "mimetype": "text/x-python",
   "name": "python",
   "nbconvert_exporter": "python",
   "pygments_lexer": "ipython3",
   "version": "3.7.1"
  }
 },
 "nbformat": 4,
 "nbformat_minor": 2
}
